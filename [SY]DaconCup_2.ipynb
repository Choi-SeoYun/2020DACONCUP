{
  "nbformat": 4,
  "nbformat_minor": 0,
  "metadata": {
    "colab": {
      "name": "[SY]DaconCup_2.ipynb",
      "provenance": [],
      "collapsed_sections": [],
      "toc_visible": true,
      "authorship_tag": "ABX9TyNaMKjygpepmNHBsoaRznbI",
      "include_colab_link": true
    },
    "kernelspec": {
      "name": "python3",
      "display_name": "Python 3"
    },
    "accelerator": "GPU"
  },
  "cells": [
    {
      "cell_type": "markdown",
      "metadata": {
        "id": "view-in-github",
        "colab_type": "text"
      },
      "source": [
        "<a href=\"https://colab.research.google.com/github/Choi-SeoYun/2020DACONCUP/blob/main/%5BSY%5DDaconCup_2.ipynb\" target=\"_parent\"><img src=\"https://colab.research.google.com/assets/colab-badge.svg\" alt=\"Open In Colab\"/></a>"
      ]
    },
    {
      "cell_type": "markdown",
      "metadata": {
        "id": "rpodwKrLUHq9"
      },
      "source": [
        "## 1. library import"
      ]
    },
    {
      "cell_type": "code",
      "metadata": {
        "id": "PMKcV9bverqc"
      },
      "source": [
        "import pandas as pd\r\n",
        "import numpy as np\r\n",
        "import warnings\r\n",
        "warnings.filterwarnings(action='ignore')\r\n",
        "import torch\r\n",
        "import torch.nn as nn\r\n",
        "import torch.nn.functional as F\r\n",
        "import torchvision\r\n",
        "import torchvision.transforms as transforms\r\n",
        "from torch.utils.data import Dataset,DataLoader\r\n",
        "import torch.optim as optim\r\n",
        "torch.manual_seed(1015)\r\n",
        "# define 'device' to upload tensor in gpu\r\n",
        "device = torch.device(\"cuda:0\" if torch.cuda.is_available() else \"cpu\")"
      ],
      "execution_count": null,
      "outputs": []
    },
    {
      "cell_type": "markdown",
      "metadata": {
        "id": "YJiOloQaUOrA"
      },
      "source": [
        "## 2. 데이터 가져오기"
      ]
    },
    {
      "cell_type": "code",
      "metadata": {
        "colab": {
          "base_uri": "https://localhost:8080/"
        },
        "id": "_XA5whPGOXkw",
        "outputId": "3dfd04b8-36b6-4ccd-d3b1-b3969189c191"
      },
      "source": [
        "from google.colab import drive\r\n",
        "drive.mount('/content/gdrive')"
      ],
      "execution_count": null,
      "outputs": [
        {
          "output_type": "stream",
          "text": [
            "Mounted at /content/gdrive\n"
          ],
          "name": "stdout"
        }
      ]
    },
    {
      "cell_type": "code",
      "metadata": {
        "id": "_nUh6b4aeGrM"
      },
      "source": [
        "train = pd.read_csv(\"/content/gdrive/MyDrive/open_data/train.csv\", encoding = 'euc-kr')\r\n",
        "info_competition = pd.read_csv(\"/content/gdrive/MyDrive/open_data/info_competition.csv\", encoding = 'euc-kr')\r\n",
        "info_login = pd.read_csv(\"/content/gdrive/MyDrive/open_data/info_login.csv\", encoding = 'euc-kr')\r\n",
        "info_submission = pd.read_csv(\"/content/gdrive/MyDrive/open_data/info_submission.csv\", encoding = 'euc-kr')\r\n",
        "info_user = pd.read_csv(\"/content/gdrive/MyDrive/open_data/info_user.csv\", encoding = 'euc-kr')\r\n",
        "submission = pd.read_csv(\"/content/gdrive/MyDrive/open_data/submission.csv\", encoding = 'euc-kr')"
      ],
      "execution_count": null,
      "outputs": []
    },
    {
      "cell_type": "markdown",
      "metadata": {
        "id": "lNiFAajCURzH"
      },
      "source": [
        "## 3. 데이터 살펴보기"
      ]
    },
    {
      "cell_type": "markdown",
      "metadata": {
        "id": "5PytizI_UTwl"
      },
      "source": [
        "### 1) info_competition"
      ]
    },
    {
      "cell_type": "code",
      "metadata": {
        "colab": {
          "base_uri": "https://localhost:8080/",
          "height": 967
        },
        "id": "QZnBZqNceyuJ",
        "outputId": "ebd4eaa1-0ad4-4df5-d285-74b773a349ff"
      },
      "source": [
        "info_competition.head()"
      ],
      "execution_count": null,
      "outputs": [
        {
          "output_type": "execute_result",
          "data": {
            "text/html": [
              "<div>\n",
              "<style scoped>\n",
              "    .dataframe tbody tr th:only-of-type {\n",
              "        vertical-align: middle;\n",
              "    }\n",
              "\n",
              "    .dataframe tbody tr th {\n",
              "        vertical-align: top;\n",
              "    }\n",
              "\n",
              "    .dataframe thead th {\n",
              "        text-align: right;\n",
              "    }\n",
              "</style>\n",
              "<table border=\"1\" class=\"dataframe\">\n",
              "  <thead>\n",
              "    <tr style=\"text-align: right;\">\n",
              "      <th></th>\n",
              "      <th>Unnamed: 0</th>\n",
              "      <th>cpt_id</th>\n",
              "      <th>is_official</th>\n",
              "      <th>period_start</th>\n",
              "      <th>period_end</th>\n",
              "      <th>name</th>\n",
              "      <th>name_eng</th>\n",
              "      <th>keyword</th>\n",
              "      <th>keyword_eng</th>\n",
              "      <th>participants</th>\n",
              "      <th>max_team_member</th>\n",
              "      <th>max_file_per_day</th>\n",
              "      <th>prize</th>\n",
              "      <th>prize_info</th>\n",
              "      <th>merge_deadline</th>\n",
              "      <th>winner_show</th>\n",
              "    </tr>\n",
              "  </thead>\n",
              "  <tbody>\n",
              "    <tr>\n",
              "      <th>0</th>\n",
              "      <td>0</td>\n",
              "      <td>136</td>\n",
              "      <td>1</td>\n",
              "      <td>2018-08-14 0:00</td>\n",
              "      <td>2018-09-13 23:59</td>\n",
              "      <td>대출 상점 총 매출 예측 경진대회</td>\n",
              "      <td>Shop Total Sales Forecast</td>\n",
              "      <td>금융 | 소상공인 신용카드 가맹점 빅데이터와 AI로 매출 예측 |  시계열, 회귀 ...</td>\n",
              "      <td>[Finance] Small Business Credit Card Merchant ...</td>\n",
              "      <td>303</td>\n",
              "      <td>5</td>\n",
              "      <td>5</td>\n",
              "      <td>850</td>\n",
              "      <td>$8,500 + 100,000ZPR</td>\n",
              "      <td>2018-09-13 23:59</td>\n",
              "      <td>3</td>\n",
              "    </tr>\n",
              "    <tr>\n",
              "      <th>1</th>\n",
              "      <td>1</td>\n",
              "      <td>9565</td>\n",
              "      <td>1</td>\n",
              "      <td>2018-09-15 0:00</td>\n",
              "      <td>2018-10-13 23:59</td>\n",
              "      <td>병원 개/폐업 분류 예측 경진대회</td>\n",
              "      <td>hospital opening / closing classification pred...</td>\n",
              "      <td>금융 | 병원 재무 데이터와 AI로 개업|폐업 예측 분석 |  분류 | Accuracy</td>\n",
              "      <td>[Financial] Hospital financial data and openin...</td>\n",
              "      <td>448</td>\n",
              "      <td>10</td>\n",
              "      <td>3</td>\n",
              "      <td>350</td>\n",
              "      <td>$3,500 + 40,000ZPR</td>\n",
              "      <td>2018-10-13 23:59</td>\n",
              "      <td>3</td>\n",
              "    </tr>\n",
              "    <tr>\n",
              "      <th>2</th>\n",
              "      <td>2</td>\n",
              "      <td>17801</td>\n",
              "      <td>1</td>\n",
              "      <td>2018-10-18 0:00</td>\n",
              "      <td>2018-12-31 23:59</td>\n",
              "      <td>아파트 경매가격 예측 경진대회</td>\n",
              "      <td>Apartment Auction Price Forecast</td>\n",
              "      <td>금융 | 부동산 아파트 경매 빅데이터와 AI로 경매가 예측 분석 |  회귀 | RMSE</td>\n",
              "      <td>[Finance] Real Estate Apartment Auction Big Da...</td>\n",
              "      <td>316</td>\n",
              "      <td>10</td>\n",
              "      <td>3</td>\n",
              "      <td>1000</td>\n",
              "      <td>$10,000 + 120,000ZPR</td>\n",
              "      <td>2018-12-31 23:59</td>\n",
              "      <td>3</td>\n",
              "    </tr>\n",
              "    <tr>\n",
              "      <th>3</th>\n",
              "      <td>3</td>\n",
              "      <td>21265</td>\n",
              "      <td>1</td>\n",
              "      <td>2018-11-13 0:00</td>\n",
              "      <td>2019-01-31 23:59</td>\n",
              "      <td>아파트 실거래가 예측</td>\n",
              "      <td>apartment real price forecast</td>\n",
              "      <td>금융 | 부동산 빅데이터와 AI를 이용하여 실거래가를 예측 분석 | 회귀 | RMSE</td>\n",
              "      <td>[Finance] Predictive analysis of real transact...</td>\n",
              "      <td>568</td>\n",
              "      <td>10</td>\n",
              "      <td>3</td>\n",
              "      <td>800</td>\n",
              "      <td>$8,000 + 80,000ZPR</td>\n",
              "      <td>2019-01-31 23:59</td>\n",
              "      <td>3</td>\n",
              "    </tr>\n",
              "    <tr>\n",
              "      <th>4</th>\n",
              "      <td>4</td>\n",
              "      <td>42473</td>\n",
              "      <td>1</td>\n",
              "      <td>2018-12-25 0:00</td>\n",
              "      <td>2019-01-10 23:59</td>\n",
              "      <td>신용카드 거래 데이터 시각화</td>\n",
              "      <td>credit card transaction data visualization</td>\n",
              "      <td>금융 | 신용카드, 시계열, 시각화 | Python, R, Tableau, Spot...</td>\n",
              "      <td>[Finance] Credit cards, time series, visualiza...</td>\n",
              "      <td>252</td>\n",
              "      <td>5</td>\n",
              "      <td>3</td>\n",
              "      <td>100</td>\n",
              "      <td>$1,000 + 100,000ZPR</td>\n",
              "      <td>2019-01-10 23:59</td>\n",
              "      <td>3</td>\n",
              "    </tr>\n",
              "  </tbody>\n",
              "</table>\n",
              "</div>"
            ],
            "text/plain": [
              "   Unnamed: 0  cpt_id  ...    merge_deadline winner_show\n",
              "0           0     136  ...  2018-09-13 23:59           3\n",
              "1           1    9565  ...  2018-10-13 23:59           3\n",
              "2           2   17801  ...  2018-12-31 23:59           3\n",
              "3           3   21265  ...  2019-01-31 23:59           3\n",
              "4           4   42473  ...  2019-01-10 23:59           3\n",
              "\n",
              "[5 rows x 16 columns]"
            ]
          },
          "metadata": {
            "tags": []
          },
          "execution_count": 4
        }
      ]
    },
    {
      "cell_type": "markdown",
      "metadata": {
        "id": "NLTx9Qh5Ubhg"
      },
      "source": [
        "### 2) info_login"
      ]
    },
    {
      "cell_type": "code",
      "metadata": {
        "colab": {
          "base_uri": "https://localhost:8080/",
          "height": 202
        },
        "id": "oYgdm6-8e0Ru",
        "outputId": "6e231332-5a0c-48f9-956d-fd4f5f74f427"
      },
      "source": [
        "info_login.head()"
      ],
      "execution_count": null,
      "outputs": [
        {
          "output_type": "execute_result",
          "data": {
            "text/html": [
              "<div>\n",
              "<style scoped>\n",
              "    .dataframe tbody tr th:only-of-type {\n",
              "        vertical-align: middle;\n",
              "    }\n",
              "\n",
              "    .dataframe tbody tr th {\n",
              "        vertical-align: top;\n",
              "    }\n",
              "\n",
              "    .dataframe thead th {\n",
              "        text-align: right;\n",
              "    }\n",
              "</style>\n",
              "<table border=\"1\" class=\"dataframe\">\n",
              "  <thead>\n",
              "    <tr style=\"text-align: right;\">\n",
              "      <th></th>\n",
              "      <th>Unnamed: 0</th>\n",
              "      <th>login_id</th>\n",
              "      <th>user_id</th>\n",
              "      <th>c_time</th>\n",
              "      <th>platform</th>\n",
              "      <th>browser</th>\n",
              "    </tr>\n",
              "  </thead>\n",
              "  <tbody>\n",
              "    <tr>\n",
              "      <th>0</th>\n",
              "      <td>0.0</td>\n",
              "      <td>14196.0</td>\n",
              "      <td>19195.0</td>\n",
              "      <td>2018-09-23 1:30</td>\n",
              "      <td>Windows 8</td>\n",
              "      <td>Internet Explorer 10.0</td>\n",
              "    </tr>\n",
              "    <tr>\n",
              "      <th>1</th>\n",
              "      <td>1.0</td>\n",
              "      <td>14234.0</td>\n",
              "      <td>22045.0</td>\n",
              "      <td>2018-09-23 2:46</td>\n",
              "      <td>Windows</td>\n",
              "      <td>Chrome 67.0.3396.99</td>\n",
              "    </tr>\n",
              "    <tr>\n",
              "      <th>2</th>\n",
              "      <td>2.0</td>\n",
              "      <td>14256.0</td>\n",
              "      <td>8790.0</td>\n",
              "      <td>2018-09-23 3:35</td>\n",
              "      <td>Windows</td>\n",
              "      <td>Chrome 69.0.3497.100</td>\n",
              "    </tr>\n",
              "    <tr>\n",
              "      <th>3</th>\n",
              "      <td>3.0</td>\n",
              "      <td>14278.0</td>\n",
              "      <td>NaN</td>\n",
              "      <td>2018-09-23 12:50</td>\n",
              "      <td>Windows</td>\n",
              "      <td>Chrome 69.0.3497.100</td>\n",
              "    </tr>\n",
              "    <tr>\n",
              "      <th>4</th>\n",
              "      <td>4.0</td>\n",
              "      <td>14279.0</td>\n",
              "      <td>NaN</td>\n",
              "      <td>2018-09-23 12:50</td>\n",
              "      <td>Windows</td>\n",
              "      <td>Chrome 69.0.3497.100</td>\n",
              "    </tr>\n",
              "  </tbody>\n",
              "</table>\n",
              "</div>"
            ],
            "text/plain": [
              "   Unnamed: 0  login_id  ...   platform                 browser\n",
              "0         0.0   14196.0  ...  Windows 8  Internet Explorer 10.0\n",
              "1         1.0   14234.0  ...    Windows     Chrome 67.0.3396.99\n",
              "2         2.0   14256.0  ...    Windows    Chrome 69.0.3497.100\n",
              "3         3.0   14278.0  ...    Windows    Chrome 69.0.3497.100\n",
              "4         4.0   14279.0  ...    Windows    Chrome 69.0.3497.100\n",
              "\n",
              "[5 rows x 6 columns]"
            ]
          },
          "metadata": {
            "tags": []
          },
          "execution_count": 5
        }
      ]
    },
    {
      "cell_type": "markdown",
      "metadata": {
        "id": "_D8qtw7mUgmg"
      },
      "source": [
        "### 3) info_submission"
      ]
    },
    {
      "cell_type": "code",
      "metadata": {
        "colab": {
          "base_uri": "https://localhost:8080/",
          "height": 202
        },
        "id": "kXRcUaxffAw2",
        "outputId": "53fe230a-8f31-4af4-d198-620f5c52a9bb"
      },
      "source": [
        "info_submission.head()"
      ],
      "execution_count": null,
      "outputs": [
        {
          "output_type": "execute_result",
          "data": {
            "text/html": [
              "<div>\n",
              "<style scoped>\n",
              "    .dataframe tbody tr th:only-of-type {\n",
              "        vertical-align: middle;\n",
              "    }\n",
              "\n",
              "    .dataframe tbody tr th {\n",
              "        vertical-align: top;\n",
              "    }\n",
              "\n",
              "    .dataframe thead th {\n",
              "        text-align: right;\n",
              "    }\n",
              "</style>\n",
              "<table border=\"1\" class=\"dataframe\">\n",
              "  <thead>\n",
              "    <tr style=\"text-align: right;\">\n",
              "      <th></th>\n",
              "      <th>Unnamed: 0</th>\n",
              "      <th>sub_id</th>\n",
              "      <th>cpt_id</th>\n",
              "      <th>team_id</th>\n",
              "      <th>user_id</th>\n",
              "      <th>c_time</th>\n",
              "    </tr>\n",
              "  </thead>\n",
              "  <tbody>\n",
              "    <tr>\n",
              "      <th>0</th>\n",
              "      <td>0.0</td>\n",
              "      <td>-250918.0</td>\n",
              "      <td>229255.0</td>\n",
              "      <td>5019.0</td>\n",
              "      <td>15880.0</td>\n",
              "      <td>2019-11-24 20:40</td>\n",
              "    </tr>\n",
              "    <tr>\n",
              "      <th>1</th>\n",
              "      <td>1.0</td>\n",
              "      <td>-250904.0</td>\n",
              "      <td>229611.0</td>\n",
              "      <td>5162.0</td>\n",
              "      <td>19772.0</td>\n",
              "      <td>2019-11-24 20:36</td>\n",
              "    </tr>\n",
              "    <tr>\n",
              "      <th>2</th>\n",
              "      <td>2.0</td>\n",
              "      <td>-250881.0</td>\n",
              "      <td>235401.0</td>\n",
              "      <td>5042.0</td>\n",
              "      <td>17801.0</td>\n",
              "      <td>2019-11-24 20:24</td>\n",
              "    </tr>\n",
              "    <tr>\n",
              "      <th>3</th>\n",
              "      <td>3.0</td>\n",
              "      <td>-250873.0</td>\n",
              "      <td>235401.0</td>\n",
              "      <td>5024.0</td>\n",
              "      <td>439.0</td>\n",
              "      <td>2019-11-24 20:23</td>\n",
              "    </tr>\n",
              "    <tr>\n",
              "      <th>4</th>\n",
              "      <td>4.0</td>\n",
              "      <td>-250860.0</td>\n",
              "      <td>229255.0</td>\n",
              "      <td>4890.0</td>\n",
              "      <td>13722.0</td>\n",
              "      <td>2019-11-24 20:19</td>\n",
              "    </tr>\n",
              "  </tbody>\n",
              "</table>\n",
              "</div>"
            ],
            "text/plain": [
              "   Unnamed: 0    sub_id    cpt_id  team_id  user_id            c_time\n",
              "0         0.0 -250918.0  229255.0   5019.0  15880.0  2019-11-24 20:40\n",
              "1         1.0 -250904.0  229611.0   5162.0  19772.0  2019-11-24 20:36\n",
              "2         2.0 -250881.0  235401.0   5042.0  17801.0  2019-11-24 20:24\n",
              "3         3.0 -250873.0  235401.0   5024.0    439.0  2019-11-24 20:23\n",
              "4         4.0 -250860.0  229255.0   4890.0  13722.0  2019-11-24 20:19"
            ]
          },
          "metadata": {
            "tags": []
          },
          "execution_count": 7
        }
      ]
    },
    {
      "cell_type": "markdown",
      "metadata": {
        "id": "RXvL_Y2lUmNn"
      },
      "source": [
        "### 4) info_user"
      ]
    },
    {
      "cell_type": "code",
      "metadata": {
        "colab": {
          "base_uri": "https://localhost:8080/",
          "height": 413
        },
        "id": "fJ89X_gTfoPg",
        "outputId": "769d02e2-c1aa-4e47-ee65-4771fe34ac85"
      },
      "source": [
        "info_user.head()"
      ],
      "execution_count": null,
      "outputs": [
        {
          "output_type": "execute_result",
          "data": {
            "text/html": [
              "<div>\n",
              "<style scoped>\n",
              "    .dataframe tbody tr th:only-of-type {\n",
              "        vertical-align: middle;\n",
              "    }\n",
              "\n",
              "    .dataframe tbody tr th {\n",
              "        vertical-align: top;\n",
              "    }\n",
              "\n",
              "    .dataframe thead th {\n",
              "        text-align: right;\n",
              "    }\n",
              "</style>\n",
              "<table border=\"1\" class=\"dataframe\">\n",
              "  <thead>\n",
              "    <tr style=\"text-align: right;\">\n",
              "      <th></th>\n",
              "      <th>Unnamed: 0</th>\n",
              "      <th>id</th>\n",
              "      <th>c_time</th>\n",
              "      <th>entered_competition_cnt</th>\n",
              "      <th>code_share_cnt</th>\n",
              "      <th>talk_board_cnt</th>\n",
              "      <th>country_code</th>\n",
              "      <th>python_level</th>\n",
              "      <th>ds_level</th>\n",
              "    </tr>\n",
              "  </thead>\n",
              "  <tbody>\n",
              "    <tr>\n",
              "      <th>0</th>\n",
              "      <td>0.0</td>\n",
              "      <td>15994.0</td>\n",
              "      <td>2017-05-02 23:58</td>\n",
              "      <td>94.0</td>\n",
              "      <td>306.0</td>\n",
              "      <td>477.0</td>\n",
              "      <td>82.0</td>\n",
              "      <td>1.0</td>\n",
              "      <td>1.0</td>\n",
              "    </tr>\n",
              "    <tr>\n",
              "      <th>1</th>\n",
              "      <td>1.0</td>\n",
              "      <td>19195.0</td>\n",
              "      <td>2018-08-08 18:21</td>\n",
              "      <td>1.0</td>\n",
              "      <td>0.0</td>\n",
              "      <td>0.0</td>\n",
              "      <td>82.0</td>\n",
              "      <td>1.0</td>\n",
              "      <td>1.0</td>\n",
              "    </tr>\n",
              "    <tr>\n",
              "      <th>2</th>\n",
              "      <td>2.0</td>\n",
              "      <td>16339.0</td>\n",
              "      <td>2018-08-08 19:57</td>\n",
              "      <td>1.0</td>\n",
              "      <td>0.0</td>\n",
              "      <td>0.0</td>\n",
              "      <td>82.0</td>\n",
              "      <td>1.0</td>\n",
              "      <td>1.0</td>\n",
              "    </tr>\n",
              "    <tr>\n",
              "      <th>3</th>\n",
              "      <td>3.0</td>\n",
              "      <td>7290.0</td>\n",
              "      <td>2018-08-08 19:59</td>\n",
              "      <td>0.0</td>\n",
              "      <td>0.0</td>\n",
              "      <td>0.0</td>\n",
              "      <td>82.0</td>\n",
              "      <td>1.0</td>\n",
              "      <td>1.0</td>\n",
              "    </tr>\n",
              "    <tr>\n",
              "      <th>4</th>\n",
              "      <td>4.0</td>\n",
              "      <td>21287.0</td>\n",
              "      <td>2018-08-08 20:26</td>\n",
              "      <td>0.0</td>\n",
              "      <td>0.0</td>\n",
              "      <td>0.0</td>\n",
              "      <td>82.0</td>\n",
              "      <td>1.0</td>\n",
              "      <td>1.0</td>\n",
              "    </tr>\n",
              "  </tbody>\n",
              "</table>\n",
              "</div>"
            ],
            "text/plain": [
              "   Unnamed: 0       id            c_time  ...  country_code  python_level  ds_level\n",
              "0         0.0  15994.0  2017-05-02 23:58  ...          82.0           1.0       1.0\n",
              "1         1.0  19195.0  2018-08-08 18:21  ...          82.0           1.0       1.0\n",
              "2         2.0  16339.0  2018-08-08 19:57  ...          82.0           1.0       1.0\n",
              "3         3.0   7290.0  2018-08-08 19:59  ...          82.0           1.0       1.0\n",
              "4         4.0  21287.0  2018-08-08 20:26  ...          82.0           1.0       1.0\n",
              "\n",
              "[5 rows x 9 columns]"
            ]
          },
          "metadata": {
            "tags": []
          },
          "execution_count": 8
        }
      ]
    },
    {
      "cell_type": "markdown",
      "metadata": {
        "id": "fcTr_iAVUpoU"
      },
      "source": [
        "### 5) submission"
      ]
    },
    {
      "cell_type": "code",
      "metadata": {
        "id": "plh_XTWahm_T",
        "colab": {
          "base_uri": "https://localhost:8080/",
          "height": 202
        },
        "outputId": "299df8c9-6c4e-4abc-89c4-a974c7f723f1"
      },
      "source": [
        "submission.head()"
      ],
      "execution_count": null,
      "outputs": [
        {
          "output_type": "execute_result",
          "data": {
            "text/html": [
              "<div>\n",
              "<style scoped>\n",
              "    .dataframe tbody tr th:only-of-type {\n",
              "        vertical-align: middle;\n",
              "    }\n",
              "\n",
              "    .dataframe tbody tr th {\n",
              "        vertical-align: top;\n",
              "    }\n",
              "\n",
              "    .dataframe thead th {\n",
              "        text-align: right;\n",
              "    }\n",
              "</style>\n",
              "<table border=\"1\" class=\"dataframe\">\n",
              "  <thead>\n",
              "    <tr style=\"text-align: right;\">\n",
              "      <th></th>\n",
              "      <th>DateTime</th>\n",
              "      <th>사용자</th>\n",
              "      <th>세션</th>\n",
              "      <th>신규방문자</th>\n",
              "      <th>페이지뷰</th>\n",
              "    </tr>\n",
              "  </thead>\n",
              "  <tbody>\n",
              "    <tr>\n",
              "      <th>0</th>\n",
              "      <td>2020-11-09</td>\n",
              "      <td>0</td>\n",
              "      <td>0</td>\n",
              "      <td>0</td>\n",
              "      <td>0</td>\n",
              "    </tr>\n",
              "    <tr>\n",
              "      <th>1</th>\n",
              "      <td>2020-11-10</td>\n",
              "      <td>0</td>\n",
              "      <td>0</td>\n",
              "      <td>0</td>\n",
              "      <td>0</td>\n",
              "    </tr>\n",
              "    <tr>\n",
              "      <th>2</th>\n",
              "      <td>2020-11-11</td>\n",
              "      <td>0</td>\n",
              "      <td>0</td>\n",
              "      <td>0</td>\n",
              "      <td>0</td>\n",
              "    </tr>\n",
              "    <tr>\n",
              "      <th>3</th>\n",
              "      <td>2020-11-12</td>\n",
              "      <td>0</td>\n",
              "      <td>0</td>\n",
              "      <td>0</td>\n",
              "      <td>0</td>\n",
              "    </tr>\n",
              "    <tr>\n",
              "      <th>4</th>\n",
              "      <td>2020-11-13</td>\n",
              "      <td>0</td>\n",
              "      <td>0</td>\n",
              "      <td>0</td>\n",
              "      <td>0</td>\n",
              "    </tr>\n",
              "  </tbody>\n",
              "</table>\n",
              "</div>"
            ],
            "text/plain": [
              "     DateTime  사용자  세션  신규방문자  페이지뷰\n",
              "0  2020-11-09    0   0      0     0\n",
              "1  2020-11-10    0   0      0     0\n",
              "2  2020-11-11    0   0      0     0\n",
              "3  2020-11-12    0   0      0     0\n",
              "4  2020-11-13    0   0      0     0"
            ]
          },
          "metadata": {
            "tags": []
          },
          "execution_count": 9
        }
      ]
    },
    {
      "cell_type": "markdown",
      "metadata": {
        "id": "YITsRwJDUtVm"
      },
      "source": [
        "### 6) train"
      ]
    },
    {
      "cell_type": "code",
      "metadata": {
        "id": "pNFV1vZ5hp2E",
        "colab": {
          "base_uri": "https://localhost:8080/",
          "height": 202
        },
        "outputId": "3fc03186-c017-4bbc-ffa0-c6f2ae96afcb"
      },
      "source": [
        "train.head()"
      ],
      "execution_count": null,
      "outputs": [
        {
          "output_type": "execute_result",
          "data": {
            "text/html": [
              "<div>\n",
              "<style scoped>\n",
              "    .dataframe tbody tr th:only-of-type {\n",
              "        vertical-align: middle;\n",
              "    }\n",
              "\n",
              "    .dataframe tbody tr th {\n",
              "        vertical-align: top;\n",
              "    }\n",
              "\n",
              "    .dataframe thead th {\n",
              "        text-align: right;\n",
              "    }\n",
              "</style>\n",
              "<table border=\"1\" class=\"dataframe\">\n",
              "  <thead>\n",
              "    <tr style=\"text-align: right;\">\n",
              "      <th></th>\n",
              "      <th>DateTime</th>\n",
              "      <th>사용자</th>\n",
              "      <th>세션</th>\n",
              "      <th>신규방문자</th>\n",
              "      <th>페이지뷰</th>\n",
              "    </tr>\n",
              "  </thead>\n",
              "  <tbody>\n",
              "    <tr>\n",
              "      <th>0</th>\n",
              "      <td>2018-09-09 00:00:00</td>\n",
              "      <td>19</td>\n",
              "      <td>19</td>\n",
              "      <td>8</td>\n",
              "      <td>206</td>\n",
              "    </tr>\n",
              "    <tr>\n",
              "      <th>1</th>\n",
              "      <td>2018-09-09 01:00:00</td>\n",
              "      <td>20</td>\n",
              "      <td>19</td>\n",
              "      <td>9</td>\n",
              "      <td>259</td>\n",
              "    </tr>\n",
              "    <tr>\n",
              "      <th>2</th>\n",
              "      <td>2018-09-09 02:00:00</td>\n",
              "      <td>12</td>\n",
              "      <td>9</td>\n",
              "      <td>1</td>\n",
              "      <td>48</td>\n",
              "    </tr>\n",
              "    <tr>\n",
              "      <th>3</th>\n",
              "      <td>2018-09-09 03:00:00</td>\n",
              "      <td>10</td>\n",
              "      <td>10</td>\n",
              "      <td>2</td>\n",
              "      <td>102</td>\n",
              "    </tr>\n",
              "    <tr>\n",
              "      <th>4</th>\n",
              "      <td>2018-09-09 04:00:00</td>\n",
              "      <td>6</td>\n",
              "      <td>5</td>\n",
              "      <td>3</td>\n",
              "      <td>18</td>\n",
              "    </tr>\n",
              "  </tbody>\n",
              "</table>\n",
              "</div>"
            ],
            "text/plain": [
              "              DateTime  사용자  세션  신규방문자  페이지뷰\n",
              "0  2018-09-09 00:00:00   19  19      8   206\n",
              "1  2018-09-09 01:00:00   20  19      9   259\n",
              "2  2018-09-09 02:00:00   12   9      1    48\n",
              "3  2018-09-09 03:00:00   10  10      2   102\n",
              "4  2018-09-09 04:00:00    6   5      3    18"
            ]
          },
          "metadata": {
            "tags": []
          },
          "execution_count": 10
        }
      ]
    },
    {
      "cell_type": "markdown",
      "metadata": {
        "id": "sYkTqrg9_sHd"
      },
      "source": [
        "## 4. train data 불러오기"
      ]
    },
    {
      "cell_type": "code",
      "metadata": {
        "id": "BD7HALjGhq4G"
      },
      "source": [
        "train = pd.read_csv(\"/content/gdrive/MyDrive/open_data/train.csv\", encoding = 'euc-kr')\r\n",
        "train['DateTime'] = pd.to_datetime(train.DateTime)\r\n",
        "train['date'] = train.DateTime.dt.date\r\n",
        "train  = train.groupby('date').sum().reset_index()"
      ],
      "execution_count": null,
      "outputs": []
    },
    {
      "cell_type": "code",
      "metadata": {
        "colab": {
          "base_uri": "https://localhost:8080/",
          "height": 415
        },
        "id": "dd49M0DM_-Ze",
        "outputId": "47b58a31-a47f-4d07-8fbf-79bedc4b184c"
      },
      "source": [
        "train"
      ],
      "execution_count": null,
      "outputs": [
        {
          "output_type": "execute_result",
          "data": {
            "text/html": [
              "<div>\n",
              "<style scoped>\n",
              "    .dataframe tbody tr th:only-of-type {\n",
              "        vertical-align: middle;\n",
              "    }\n",
              "\n",
              "    .dataframe tbody tr th {\n",
              "        vertical-align: top;\n",
              "    }\n",
              "\n",
              "    .dataframe thead th {\n",
              "        text-align: right;\n",
              "    }\n",
              "</style>\n",
              "<table border=\"1\" class=\"dataframe\">\n",
              "  <thead>\n",
              "    <tr style=\"text-align: right;\">\n",
              "      <th></th>\n",
              "      <th>date</th>\n",
              "      <th>사용자</th>\n",
              "      <th>세션</th>\n",
              "      <th>신규방문자</th>\n",
              "      <th>페이지뷰</th>\n",
              "    </tr>\n",
              "  </thead>\n",
              "  <tbody>\n",
              "    <tr>\n",
              "      <th>0</th>\n",
              "      <td>2018-09-09</td>\n",
              "      <td>281</td>\n",
              "      <td>266</td>\n",
              "      <td>73</td>\n",
              "      <td>1826</td>\n",
              "    </tr>\n",
              "    <tr>\n",
              "      <th>1</th>\n",
              "      <td>2018-09-10</td>\n",
              "      <td>264</td>\n",
              "      <td>247</td>\n",
              "      <td>51</td>\n",
              "      <td>2092</td>\n",
              "    </tr>\n",
              "    <tr>\n",
              "      <th>2</th>\n",
              "      <td>2018-09-11</td>\n",
              "      <td>329</td>\n",
              "      <td>310</td>\n",
              "      <td>58</td>\n",
              "      <td>1998</td>\n",
              "    </tr>\n",
              "    <tr>\n",
              "      <th>3</th>\n",
              "      <td>2018-09-12</td>\n",
              "      <td>300</td>\n",
              "      <td>287</td>\n",
              "      <td>45</td>\n",
              "      <td>2595</td>\n",
              "    </tr>\n",
              "    <tr>\n",
              "      <th>4</th>\n",
              "      <td>2018-09-13</td>\n",
              "      <td>378</td>\n",
              "      <td>344</td>\n",
              "      <td>50</td>\n",
              "      <td>3845</td>\n",
              "    </tr>\n",
              "    <tr>\n",
              "      <th>...</th>\n",
              "      <td>...</td>\n",
              "      <td>...</td>\n",
              "      <td>...</td>\n",
              "      <td>...</td>\n",
              "      <td>...</td>\n",
              "    </tr>\n",
              "    <tr>\n",
              "      <th>787</th>\n",
              "      <td>2020-11-04</td>\n",
              "      <td>4516</td>\n",
              "      <td>4472</td>\n",
              "      <td>1196</td>\n",
              "      <td>112683</td>\n",
              "    </tr>\n",
              "    <tr>\n",
              "      <th>788</th>\n",
              "      <td>2020-11-05</td>\n",
              "      <td>4155</td>\n",
              "      <td>4037</td>\n",
              "      <td>1044</td>\n",
              "      <td>102901</td>\n",
              "    </tr>\n",
              "    <tr>\n",
              "      <th>789</th>\n",
              "      <td>2020-11-06</td>\n",
              "      <td>3663</td>\n",
              "      <td>3576</td>\n",
              "      <td>825</td>\n",
              "      <td>88015</td>\n",
              "    </tr>\n",
              "    <tr>\n",
              "      <th>790</th>\n",
              "      <td>2020-11-07</td>\n",
              "      <td>2472</td>\n",
              "      <td>2417</td>\n",
              "      <td>531</td>\n",
              "      <td>57386</td>\n",
              "    </tr>\n",
              "    <tr>\n",
              "      <th>791</th>\n",
              "      <td>2020-11-08</td>\n",
              "      <td>2492</td>\n",
              "      <td>2420</td>\n",
              "      <td>522</td>\n",
              "      <td>50486</td>\n",
              "    </tr>\n",
              "  </tbody>\n",
              "</table>\n",
              "<p>792 rows × 5 columns</p>\n",
              "</div>"
            ],
            "text/plain": [
              "           date   사용자    세션  신규방문자    페이지뷰\n",
              "0    2018-09-09   281   266     73    1826\n",
              "1    2018-09-10   264   247     51    2092\n",
              "2    2018-09-11   329   310     58    1998\n",
              "3    2018-09-12   300   287     45    2595\n",
              "4    2018-09-13   378   344     50    3845\n",
              "..          ...   ...   ...    ...     ...\n",
              "787  2020-11-04  4516  4472   1196  112683\n",
              "788  2020-11-05  4155  4037   1044  102901\n",
              "789  2020-11-06  3663  3576    825   88015\n",
              "790  2020-11-07  2472  2417    531   57386\n",
              "791  2020-11-08  2492  2420    522   50486\n",
              "\n",
              "[792 rows x 5 columns]"
            ]
          },
          "metadata": {
            "tags": []
          },
          "execution_count": 5
        }
      ]
    },
    {
      "cell_type": "markdown",
      "metadata": {
        "id": "G5cm9zw-AC2H"
      },
      "source": [
        "## 5. 데이터 가져와서 합치기(하려는 의도)\r\n",
        "- 언니가 isHoliday를 넣은 것처럼 info_login정보를 넣어보자\r\n",
        "- 먼저 info_login을 날짜별로 묶자(raw data는 시간별로 있음)\r\n",
        "- 그 후, train과 info_login를 합치자\r\n",
        "- **잠깐만!! 그럼 아이디 몇개가 평균적으로 몇번 들어왔는지 세야 하는건가? 합치는건 그냥 아이디값을 더하는 거니까! 위에처럼 하면 안됨!**"
      ]
    },
    {
      "cell_type": "code",
      "metadata": {
        "colab": {
          "base_uri": "https://localhost:8080/",
          "height": 453
        },
        "id": "-2PPy8u7__Mg",
        "outputId": "6c611851-b3b9-4446-de5d-838d208a29e6"
      },
      "source": [
        "info_login = pd.read_csv(\"/content/gdrive/MyDrive/open_data/info_login.csv\", encoding = 'euc-kr')\r\n",
        "info_login['c_time'] = pd.to_datetime(info_login.c_time)\r\n",
        "info_login['date'] = info_login.c_time.dt.date\r\n",
        "# 날짜별로 총 로그인 아이디 개수 세기, 중복되는 아이디 개수 세기\r\n",
        "# 만약 9월23일의 로그인 아이디 대수가 161개 라면 소용 없어짐 -> 오케이 성공\r\n",
        "login_size = info_login.groupby('date').size()\r\n",
        "login_size = pd.DataFrame(login_size)\r\n",
        "login_size = login_size.reset_index()\r\n",
        "login_size.columns = [\"date\", \"login_count\"]\r\n",
        "\r\n",
        "print(login_size.mean())\r\n",
        "login_size"
      ],
      "execution_count": null,
      "outputs": [
        {
          "output_type": "stream",
          "text": [
            "login_count    184.404703\n",
            "dtype: float64\n"
          ],
          "name": "stdout"
        },
        {
          "output_type": "execute_result",
          "data": {
            "text/html": [
              "<div>\n",
              "<style scoped>\n",
              "    .dataframe tbody tr th:only-of-type {\n",
              "        vertical-align: middle;\n",
              "    }\n",
              "\n",
              "    .dataframe tbody tr th {\n",
              "        vertical-align: top;\n",
              "    }\n",
              "\n",
              "    .dataframe thead th {\n",
              "        text-align: right;\n",
              "    }\n",
              "</style>\n",
              "<table border=\"1\" class=\"dataframe\">\n",
              "  <thead>\n",
              "    <tr style=\"text-align: right;\">\n",
              "      <th></th>\n",
              "      <th>date</th>\n",
              "      <th>login_count</th>\n",
              "    </tr>\n",
              "  </thead>\n",
              "  <tbody>\n",
              "    <tr>\n",
              "      <th>0</th>\n",
              "      <td>2018-09-23</td>\n",
              "      <td>35</td>\n",
              "    </tr>\n",
              "    <tr>\n",
              "      <th>1</th>\n",
              "      <td>2018-09-24</td>\n",
              "      <td>30</td>\n",
              "    </tr>\n",
              "    <tr>\n",
              "      <th>2</th>\n",
              "      <td>2018-09-25</td>\n",
              "      <td>18</td>\n",
              "    </tr>\n",
              "    <tr>\n",
              "      <th>3</th>\n",
              "      <td>2018-09-26</td>\n",
              "      <td>48</td>\n",
              "    </tr>\n",
              "    <tr>\n",
              "      <th>4</th>\n",
              "      <td>2018-09-27</td>\n",
              "      <td>31</td>\n",
              "    </tr>\n",
              "    <tr>\n",
              "      <th>...</th>\n",
              "      <td>...</td>\n",
              "      <td>...</td>\n",
              "    </tr>\n",
              "    <tr>\n",
              "      <th>803</th>\n",
              "      <td>2020-12-04</td>\n",
              "      <td>276</td>\n",
              "    </tr>\n",
              "    <tr>\n",
              "      <th>804</th>\n",
              "      <td>2020-12-05</td>\n",
              "      <td>143</td>\n",
              "    </tr>\n",
              "    <tr>\n",
              "      <th>805</th>\n",
              "      <td>2020-12-06</td>\n",
              "      <td>169</td>\n",
              "    </tr>\n",
              "    <tr>\n",
              "      <th>806</th>\n",
              "      <td>2020-12-07</td>\n",
              "      <td>345</td>\n",
              "    </tr>\n",
              "    <tr>\n",
              "      <th>807</th>\n",
              "      <td>2020-12-08</td>\n",
              "      <td>299</td>\n",
              "    </tr>\n",
              "  </tbody>\n",
              "</table>\n",
              "<p>808 rows × 2 columns</p>\n",
              "</div>"
            ],
            "text/plain": [
              "           date  login_count\n",
              "0    2018-09-23           35\n",
              "1    2018-09-24           30\n",
              "2    2018-09-25           18\n",
              "3    2018-09-26           48\n",
              "4    2018-09-27           31\n",
              "..          ...          ...\n",
              "803  2020-12-04          276\n",
              "804  2020-12-05          143\n",
              "805  2020-12-06          169\n",
              "806  2020-12-07          345\n",
              "807  2020-12-08          299\n",
              "\n",
              "[808 rows x 2 columns]"
            ]
          },
          "metadata": {
            "tags": []
          },
          "execution_count": 25
        }
      ]
    },
    {
      "cell_type": "code",
      "metadata": {
        "id": "uWTspzg1EBzC",
        "colab": {
          "base_uri": "https://localhost:8080/",
          "height": 415
        },
        "outputId": "5d6e6c50-e498-47a7-eeeb-6d7b102d092f"
      },
      "source": [
        "my_train = pd.merge(train, login_size[['date', 'login_count']], on='date', how='left')\r\n",
        "my_train = my_train.fillna(login_size.mean())\r\n",
        "train = my_train\r\n",
        "train"
      ],
      "execution_count": null,
      "outputs": [
        {
          "output_type": "execute_result",
          "data": {
            "text/html": [
              "<div>\n",
              "<style scoped>\n",
              "    .dataframe tbody tr th:only-of-type {\n",
              "        vertical-align: middle;\n",
              "    }\n",
              "\n",
              "    .dataframe tbody tr th {\n",
              "        vertical-align: top;\n",
              "    }\n",
              "\n",
              "    .dataframe thead th {\n",
              "        text-align: right;\n",
              "    }\n",
              "</style>\n",
              "<table border=\"1\" class=\"dataframe\">\n",
              "  <thead>\n",
              "    <tr style=\"text-align: right;\">\n",
              "      <th></th>\n",
              "      <th>date</th>\n",
              "      <th>사용자</th>\n",
              "      <th>세션</th>\n",
              "      <th>신규방문자</th>\n",
              "      <th>페이지뷰</th>\n",
              "      <th>login_count</th>\n",
              "    </tr>\n",
              "  </thead>\n",
              "  <tbody>\n",
              "    <tr>\n",
              "      <th>0</th>\n",
              "      <td>2018-09-09</td>\n",
              "      <td>281</td>\n",
              "      <td>266</td>\n",
              "      <td>73</td>\n",
              "      <td>1826</td>\n",
              "      <td>184.404703</td>\n",
              "    </tr>\n",
              "    <tr>\n",
              "      <th>1</th>\n",
              "      <td>2018-09-10</td>\n",
              "      <td>264</td>\n",
              "      <td>247</td>\n",
              "      <td>51</td>\n",
              "      <td>2092</td>\n",
              "      <td>184.404703</td>\n",
              "    </tr>\n",
              "    <tr>\n",
              "      <th>2</th>\n",
              "      <td>2018-09-11</td>\n",
              "      <td>329</td>\n",
              "      <td>310</td>\n",
              "      <td>58</td>\n",
              "      <td>1998</td>\n",
              "      <td>184.404703</td>\n",
              "    </tr>\n",
              "    <tr>\n",
              "      <th>3</th>\n",
              "      <td>2018-09-12</td>\n",
              "      <td>300</td>\n",
              "      <td>287</td>\n",
              "      <td>45</td>\n",
              "      <td>2595</td>\n",
              "      <td>184.404703</td>\n",
              "    </tr>\n",
              "    <tr>\n",
              "      <th>4</th>\n",
              "      <td>2018-09-13</td>\n",
              "      <td>378</td>\n",
              "      <td>344</td>\n",
              "      <td>50</td>\n",
              "      <td>3845</td>\n",
              "      <td>184.404703</td>\n",
              "    </tr>\n",
              "    <tr>\n",
              "      <th>...</th>\n",
              "      <td>...</td>\n",
              "      <td>...</td>\n",
              "      <td>...</td>\n",
              "      <td>...</td>\n",
              "      <td>...</td>\n",
              "      <td>...</td>\n",
              "    </tr>\n",
              "    <tr>\n",
              "      <th>787</th>\n",
              "      <td>2020-11-04</td>\n",
              "      <td>4516</td>\n",
              "      <td>4472</td>\n",
              "      <td>1196</td>\n",
              "      <td>112683</td>\n",
              "      <td>460.000000</td>\n",
              "    </tr>\n",
              "    <tr>\n",
              "      <th>788</th>\n",
              "      <td>2020-11-05</td>\n",
              "      <td>4155</td>\n",
              "      <td>4037</td>\n",
              "      <td>1044</td>\n",
              "      <td>102901</td>\n",
              "      <td>378.000000</td>\n",
              "    </tr>\n",
              "    <tr>\n",
              "      <th>789</th>\n",
              "      <td>2020-11-06</td>\n",
              "      <td>3663</td>\n",
              "      <td>3576</td>\n",
              "      <td>825</td>\n",
              "      <td>88015</td>\n",
              "      <td>367.000000</td>\n",
              "    </tr>\n",
              "    <tr>\n",
              "      <th>790</th>\n",
              "      <td>2020-11-07</td>\n",
              "      <td>2472</td>\n",
              "      <td>2417</td>\n",
              "      <td>531</td>\n",
              "      <td>57386</td>\n",
              "      <td>224.000000</td>\n",
              "    </tr>\n",
              "    <tr>\n",
              "      <th>791</th>\n",
              "      <td>2020-11-08</td>\n",
              "      <td>2492</td>\n",
              "      <td>2420</td>\n",
              "      <td>522</td>\n",
              "      <td>50486</td>\n",
              "      <td>224.000000</td>\n",
              "    </tr>\n",
              "  </tbody>\n",
              "</table>\n",
              "<p>792 rows × 6 columns</p>\n",
              "</div>"
            ],
            "text/plain": [
              "           date   사용자    세션  신규방문자    페이지뷰  login_count\n",
              "0    2018-09-09   281   266     73    1826   184.404703\n",
              "1    2018-09-10   264   247     51    2092   184.404703\n",
              "2    2018-09-11   329   310     58    1998   184.404703\n",
              "3    2018-09-12   300   287     45    2595   184.404703\n",
              "4    2018-09-13   378   344     50    3845   184.404703\n",
              "..          ...   ...   ...    ...     ...          ...\n",
              "787  2020-11-04  4516  4472   1196  112683   460.000000\n",
              "788  2020-11-05  4155  4037   1044  102901   378.000000\n",
              "789  2020-11-06  3663  3576    825   88015   367.000000\n",
              "790  2020-11-07  2472  2417    531   57386   224.000000\n",
              "791  2020-11-08  2492  2420    522   50486   224.000000\n",
              "\n",
              "[792 rows x 6 columns]"
            ]
          },
          "metadata": {
            "tags": []
          },
          "execution_count": 26
        }
      ]
    },
    {
      "cell_type": "markdown",
      "metadata": {
        "id": "Mz5JW3p4Hk3F"
      },
      "source": [
        "## 6. 데이터 수정"
      ]
    },
    {
      "cell_type": "code",
      "metadata": {
        "id": "s1G2pZ17GGwI"
      },
      "source": [
        "# minmax scaling\r\n",
        "mini = train.iloc[:,1:-1].min()\r\n",
        "size = train.iloc[:,1:-1].max() - train.iloc[:,1:-1].min()\r\n",
        "train.iloc[:,1:-1] = (train.iloc[:,1:-1] -  mini) / size\r\n",
        "\r\n",
        "input_window = 30 # 30일씩 데이터를 넣음\r\n",
        "output_window = 7 # 이후 7일을 예측\r\n",
        "\r\n",
        "# (a, b, c) -> a: 데이터 수, b: input (이전 30일 데이터, isHoliday), c: 예측 layer\r\n",
        "# 사용자 수 -> \r\n",
        "window_x = np.zeros((train.shape[0] - (input_window + output_window), input_window + 1, 4)) # 공휴일여부 추가\r\n",
        "window_y = np.zeros((train.shape[0] - (input_window + output_window), output_window, 4))\r\n",
        "\r\n",
        "for start in range(train.shape[0] - (input_window + output_window)):\r\n",
        "    end = start + input_window    \r\n",
        "    window_x[start,:-1, :] = train.iloc[start : end                , 1: -1].values # 1~30일 사용자수,...4가지\r\n",
        "    window_x[start, -1, :] = train.iloc[end, -1]                                   # 31일의 isholiday \r\n",
        "    window_y[start,:, :] = train.iloc[end   : end + output_window, 1: -1].values   # 1일~7일 사용자수,....4가지"
      ],
      "execution_count": null,
      "outputs": []
    },
    {
      "cell_type": "code",
      "metadata": {
        "colab": {
          "base_uri": "https://localhost:8080/"
        },
        "id": "RrPeJXqKIjg7",
        "outputId": "d1522c88-0142-445d-d19e-b2c71eb75d5e"
      },
      "source": [
        "window_x.shape, window_y.shape"
      ],
      "execution_count": null,
      "outputs": [
        {
          "output_type": "execute_result",
          "data": {
            "text/plain": [
              "((755, 31, 4), (755, 7, 4))"
            ]
          },
          "metadata": {
            "tags": []
          },
          "execution_count": 28
        }
      ]
    },
    {
      "cell_type": "markdown",
      "metadata": {
        "id": "3VRdh6N3I735"
      },
      "source": [
        "## 7. model 생성"
      ]
    },
    {
      "cell_type": "code",
      "metadata": {
        "id": "taOREI0VJAFf"
      },
      "source": [
        "class LSTM(nn.Module):\r\n",
        "    def __init__(self, input_size, hidden_size):\r\n",
        "        super(LSTM, self).__init__()\r\n",
        "        self.hidden_size = hidden_size\r\n",
        "        self.lstm = nn.LSTM(input_size = input_size,\r\n",
        "                            hidden_size = hidden_size,\r\n",
        "                            batch_first=True)\r\n",
        "        self.hidden_lstm = nn.LSTM(input_size = hidden_size,\r\n",
        "                                   hidden_size = hidden_size,\r\n",
        "                                   batch_first=True)\r\n",
        "        \r\n",
        "        self.time_fc = nn.Linear(hidden_size, 4)\r\n",
        "    \r\n",
        "    def forward(self, x_time):\r\n",
        "    \r\n",
        "        out_time, _ = self.lstm(x_time)\r\n",
        "        out_time, _ = self.hidden_lstm(out_time)\r\n",
        "        out_time, _ = self.hidden_lstm(out_time)\r\n",
        "        out_time, _ = self.hidden_lstm(out_time)\r\n",
        "        \r\n",
        "        \r\n",
        "        out_time = self.time_fc(out_time[:,-7:, :])\r\n",
        "        \r\n",
        "        return out_time.view(-1,7,4)\r\n",
        "    \r\n",
        "model = LSTM(input_size = 4, hidden_size = 30).to(device)"
      ],
      "execution_count": null,
      "outputs": []
    },
    {
      "cell_type": "markdown",
      "metadata": {
        "id": "gx43AqW8JSS0"
      },
      "source": [
        "## 8. 학습"
      ]
    },
    {
      "cell_type": "code",
      "metadata": {
        "colab": {
          "base_uri": "https://localhost:8080/"
        },
        "id": "l6n2szhkJSB5",
        "outputId": "4cd0763d-7b2d-4ec3-de1f-84d0209dc921"
      },
      "source": [
        "window_x = torch.tensor(window_x).float().to(device)\r\n",
        "window_y = torch.tensor(window_y).float().to(device)\r\n",
        "\r\n",
        "# Train model\r\n",
        "optimizer = torch.optim.Adam(model.parameters(), lr = 1e-3)\r\n",
        "criterion = nn.MSELoss(size_average = True)\r\n",
        "num_epochs  = 800\r\n",
        "train_error = []\r\n",
        "for t in range(num_epochs):\r\n",
        "    train_pred = model(window_x)\r\n",
        "    loss = criterion(train_pred, window_y) ### trend\r\n",
        "    train_error.append(loss)\r\n",
        "    \r\n",
        "    optimizer.zero_grad()\r\n",
        "    loss.backward()\r\n",
        "    optimizer.step()\r\n",
        "    if t % 20 == 0 and t !=0:\r\n",
        "        print(f\"{t} Epochs train MSE: {loss.item():1.5f}\")"
      ],
      "execution_count": null,
      "outputs": [
        {
          "output_type": "stream",
          "text": [
            "20 Epochs train MSE: 0.04256\n",
            "40 Epochs train MSE: 0.02817\n",
            "60 Epochs train MSE: 0.01801\n",
            "80 Epochs train MSE: 0.00939\n",
            "100 Epochs train MSE: 0.00837\n",
            "120 Epochs train MSE: 0.00820\n",
            "140 Epochs train MSE: 0.00812\n",
            "160 Epochs train MSE: 0.00807\n",
            "180 Epochs train MSE: 0.00805\n",
            "200 Epochs train MSE: 0.00803\n",
            "220 Epochs train MSE: 0.00801\n",
            "240 Epochs train MSE: 0.00800\n",
            "260 Epochs train MSE: 0.00798\n",
            "280 Epochs train MSE: 0.00796\n",
            "300 Epochs train MSE: 0.00795\n",
            "320 Epochs train MSE: 0.00793\n",
            "340 Epochs train MSE: 0.00791\n",
            "360 Epochs train MSE: 0.00789\n",
            "380 Epochs train MSE: 0.00787\n",
            "400 Epochs train MSE: 0.00785\n",
            "420 Epochs train MSE: 0.00782\n",
            "440 Epochs train MSE: 0.00778\n",
            "460 Epochs train MSE: 0.00773\n",
            "480 Epochs train MSE: 0.00767\n",
            "500 Epochs train MSE: 0.00757\n",
            "520 Epochs train MSE: 0.00743\n",
            "540 Epochs train MSE: 0.00720\n",
            "560 Epochs train MSE: 0.00711\n",
            "580 Epochs train MSE: 0.00693\n",
            "600 Epochs train MSE: 0.00674\n",
            "620 Epochs train MSE: 0.00647\n",
            "640 Epochs train MSE: 0.00601\n",
            "660 Epochs train MSE: 0.00559\n",
            "680 Epochs train MSE: 0.00548\n",
            "700 Epochs train MSE: 0.00519\n",
            "720 Epochs train MSE: 0.00499\n",
            "740 Epochs train MSE: 0.00482\n",
            "760 Epochs train MSE: 0.00468\n",
            "780 Epochs train MSE: 0.00460\n"
          ],
          "name": "stdout"
        }
      ]
    },
    {
      "cell_type": "markdown",
      "metadata": {
        "id": "6LbSGJMYK1eM"
      },
      "source": [
        "## 9. 예측하기"
      ]
    },
    {
      "cell_type": "code",
      "metadata": {
        "id": "6DR8Kq8zK8QN"
      },
      "source": [
        "submission = pd.read_csv(\"/content/gdrive/MyDrive/open_data/submission.csv\", encoding = 'euc-kr')\r\n",
        "sub_copy = submission.copy()\r\n",
        "# sub_copy['date'] = pd.to_datetime(sub_copy['DateTime'])\r\n",
        "\r\n",
        "# sub_copy = utils.add_isHoliday_column(sub_copy)\r\n",
        "sub_copy['login_count'] = 0\r\n",
        "\r\n",
        "\r\n",
        "# sub_holiday_lst = sub_copy.isHoliday.tolist()\r\n",
        "sub_login_lst = sub_copy.login_count.tolist()"
      ],
      "execution_count": null,
      "outputs": []
    },
    {
      "cell_type": "code",
      "metadata": {
        "colab": {
          "base_uri": "https://localhost:8080/",
          "height": 415
        },
        "id": "n9C3IVEmGs_B",
        "outputId": "22f41cdf-070b-4195-c900-f8a2bded8f67"
      },
      "source": [
        "sub_copy"
      ],
      "execution_count": null,
      "outputs": [
        {
          "output_type": "execute_result",
          "data": {
            "text/html": [
              "<div>\n",
              "<style scoped>\n",
              "    .dataframe tbody tr th:only-of-type {\n",
              "        vertical-align: middle;\n",
              "    }\n",
              "\n",
              "    .dataframe tbody tr th {\n",
              "        vertical-align: top;\n",
              "    }\n",
              "\n",
              "    .dataframe thead th {\n",
              "        text-align: right;\n",
              "    }\n",
              "</style>\n",
              "<table border=\"1\" class=\"dataframe\">\n",
              "  <thead>\n",
              "    <tr style=\"text-align: right;\">\n",
              "      <th></th>\n",
              "      <th>DateTime</th>\n",
              "      <th>사용자</th>\n",
              "      <th>세션</th>\n",
              "      <th>신규방문자</th>\n",
              "      <th>페이지뷰</th>\n",
              "      <th>login_count</th>\n",
              "    </tr>\n",
              "  </thead>\n",
              "  <tbody>\n",
              "    <tr>\n",
              "      <th>0</th>\n",
              "      <td>2020-11-09</td>\n",
              "      <td>0</td>\n",
              "      <td>0</td>\n",
              "      <td>0</td>\n",
              "      <td>0</td>\n",
              "      <td>0</td>\n",
              "    </tr>\n",
              "    <tr>\n",
              "      <th>1</th>\n",
              "      <td>2020-11-10</td>\n",
              "      <td>0</td>\n",
              "      <td>0</td>\n",
              "      <td>0</td>\n",
              "      <td>0</td>\n",
              "      <td>0</td>\n",
              "    </tr>\n",
              "    <tr>\n",
              "      <th>2</th>\n",
              "      <td>2020-11-11</td>\n",
              "      <td>0</td>\n",
              "      <td>0</td>\n",
              "      <td>0</td>\n",
              "      <td>0</td>\n",
              "      <td>0</td>\n",
              "    </tr>\n",
              "    <tr>\n",
              "      <th>3</th>\n",
              "      <td>2020-11-12</td>\n",
              "      <td>0</td>\n",
              "      <td>0</td>\n",
              "      <td>0</td>\n",
              "      <td>0</td>\n",
              "      <td>0</td>\n",
              "    </tr>\n",
              "    <tr>\n",
              "      <th>4</th>\n",
              "      <td>2020-11-13</td>\n",
              "      <td>0</td>\n",
              "      <td>0</td>\n",
              "      <td>0</td>\n",
              "      <td>0</td>\n",
              "      <td>0</td>\n",
              "    </tr>\n",
              "    <tr>\n",
              "      <th>...</th>\n",
              "      <td>...</td>\n",
              "      <td>...</td>\n",
              "      <td>...</td>\n",
              "      <td>...</td>\n",
              "      <td>...</td>\n",
              "      <td>...</td>\n",
              "    </tr>\n",
              "    <tr>\n",
              "      <th>56</th>\n",
              "      <td>2021-01-04</td>\n",
              "      <td>0</td>\n",
              "      <td>0</td>\n",
              "      <td>0</td>\n",
              "      <td>0</td>\n",
              "      <td>0</td>\n",
              "    </tr>\n",
              "    <tr>\n",
              "      <th>57</th>\n",
              "      <td>2021-01-05</td>\n",
              "      <td>0</td>\n",
              "      <td>0</td>\n",
              "      <td>0</td>\n",
              "      <td>0</td>\n",
              "      <td>0</td>\n",
              "    </tr>\n",
              "    <tr>\n",
              "      <th>58</th>\n",
              "      <td>2021-01-06</td>\n",
              "      <td>0</td>\n",
              "      <td>0</td>\n",
              "      <td>0</td>\n",
              "      <td>0</td>\n",
              "      <td>0</td>\n",
              "    </tr>\n",
              "    <tr>\n",
              "      <th>59</th>\n",
              "      <td>2021-01-07</td>\n",
              "      <td>0</td>\n",
              "      <td>0</td>\n",
              "      <td>0</td>\n",
              "      <td>0</td>\n",
              "      <td>0</td>\n",
              "    </tr>\n",
              "    <tr>\n",
              "      <th>60</th>\n",
              "      <td>2021-01-08</td>\n",
              "      <td>0</td>\n",
              "      <td>0</td>\n",
              "      <td>0</td>\n",
              "      <td>0</td>\n",
              "      <td>0</td>\n",
              "    </tr>\n",
              "  </tbody>\n",
              "</table>\n",
              "<p>61 rows × 6 columns</p>\n",
              "</div>"
            ],
            "text/plain": [
              "      DateTime  사용자  세션  신규방문자  페이지뷰  login_count\n",
              "0   2020-11-09    0   0      0     0            0\n",
              "1   2020-11-10    0   0      0     0            0\n",
              "2   2020-11-11    0   0      0     0            0\n",
              "3   2020-11-12    0   0      0     0            0\n",
              "4   2020-11-13    0   0      0     0            0\n",
              "..         ...  ...  ..    ...   ...          ...\n",
              "56  2021-01-04    0   0      0     0            0\n",
              "57  2021-01-05    0   0      0     0            0\n",
              "58  2021-01-06    0   0      0     0            0\n",
              "59  2021-01-07    0   0      0     0            0\n",
              "60  2021-01-08    0   0      0     0            0\n",
              "\n",
              "[61 rows x 6 columns]"
            ]
          },
          "metadata": {
            "tags": []
          },
          "execution_count": 32
        }
      ]
    },
    {
      "cell_type": "code",
      "metadata": {
        "colab": {
          "base_uri": "https://localhost:8080/",
          "height": 415
        },
        "id": "X4Grr8m8-UVK",
        "outputId": "7ecd5ec9-f2be-42e9-945c-36614c7502fe"
      },
      "source": [
        "submission"
      ],
      "execution_count": null,
      "outputs": [
        {
          "output_type": "execute_result",
          "data": {
            "text/html": [
              "<div>\n",
              "<style scoped>\n",
              "    .dataframe tbody tr th:only-of-type {\n",
              "        vertical-align: middle;\n",
              "    }\n",
              "\n",
              "    .dataframe tbody tr th {\n",
              "        vertical-align: top;\n",
              "    }\n",
              "\n",
              "    .dataframe thead th {\n",
              "        text-align: right;\n",
              "    }\n",
              "</style>\n",
              "<table border=\"1\" class=\"dataframe\">\n",
              "  <thead>\n",
              "    <tr style=\"text-align: right;\">\n",
              "      <th></th>\n",
              "      <th>DateTime</th>\n",
              "      <th>사용자</th>\n",
              "      <th>세션</th>\n",
              "      <th>신규방문자</th>\n",
              "      <th>페이지뷰</th>\n",
              "    </tr>\n",
              "  </thead>\n",
              "  <tbody>\n",
              "    <tr>\n",
              "      <th>0</th>\n",
              "      <td>2020-11-09</td>\n",
              "      <td>0</td>\n",
              "      <td>0</td>\n",
              "      <td>0</td>\n",
              "      <td>0</td>\n",
              "    </tr>\n",
              "    <tr>\n",
              "      <th>1</th>\n",
              "      <td>2020-11-10</td>\n",
              "      <td>0</td>\n",
              "      <td>0</td>\n",
              "      <td>0</td>\n",
              "      <td>0</td>\n",
              "    </tr>\n",
              "    <tr>\n",
              "      <th>2</th>\n",
              "      <td>2020-11-11</td>\n",
              "      <td>0</td>\n",
              "      <td>0</td>\n",
              "      <td>0</td>\n",
              "      <td>0</td>\n",
              "    </tr>\n",
              "    <tr>\n",
              "      <th>3</th>\n",
              "      <td>2020-11-12</td>\n",
              "      <td>0</td>\n",
              "      <td>0</td>\n",
              "      <td>0</td>\n",
              "      <td>0</td>\n",
              "    </tr>\n",
              "    <tr>\n",
              "      <th>4</th>\n",
              "      <td>2020-11-13</td>\n",
              "      <td>0</td>\n",
              "      <td>0</td>\n",
              "      <td>0</td>\n",
              "      <td>0</td>\n",
              "    </tr>\n",
              "    <tr>\n",
              "      <th>...</th>\n",
              "      <td>...</td>\n",
              "      <td>...</td>\n",
              "      <td>...</td>\n",
              "      <td>...</td>\n",
              "      <td>...</td>\n",
              "    </tr>\n",
              "    <tr>\n",
              "      <th>56</th>\n",
              "      <td>2021-01-04</td>\n",
              "      <td>0</td>\n",
              "      <td>0</td>\n",
              "      <td>0</td>\n",
              "      <td>0</td>\n",
              "    </tr>\n",
              "    <tr>\n",
              "      <th>57</th>\n",
              "      <td>2021-01-05</td>\n",
              "      <td>0</td>\n",
              "      <td>0</td>\n",
              "      <td>0</td>\n",
              "      <td>0</td>\n",
              "    </tr>\n",
              "    <tr>\n",
              "      <th>58</th>\n",
              "      <td>2021-01-06</td>\n",
              "      <td>0</td>\n",
              "      <td>0</td>\n",
              "      <td>0</td>\n",
              "      <td>0</td>\n",
              "    </tr>\n",
              "    <tr>\n",
              "      <th>59</th>\n",
              "      <td>2021-01-07</td>\n",
              "      <td>0</td>\n",
              "      <td>0</td>\n",
              "      <td>0</td>\n",
              "      <td>0</td>\n",
              "    </tr>\n",
              "    <tr>\n",
              "      <th>60</th>\n",
              "      <td>2021-01-08</td>\n",
              "      <td>0</td>\n",
              "      <td>0</td>\n",
              "      <td>0</td>\n",
              "      <td>0</td>\n",
              "    </tr>\n",
              "  </tbody>\n",
              "</table>\n",
              "<p>61 rows × 5 columns</p>\n",
              "</div>"
            ],
            "text/plain": [
              "      DateTime  사용자  세션  신규방문자  페이지뷰\n",
              "0   2020-11-09    0   0      0     0\n",
              "1   2020-11-10    0   0      0     0\n",
              "2   2020-11-11    0   0      0     0\n",
              "3   2020-11-12    0   0      0     0\n",
              "4   2020-11-13    0   0      0     0\n",
              "..         ...  ...  ..    ...   ...\n",
              "56  2021-01-04    0   0      0     0\n",
              "57  2021-01-05    0   0      0     0\n",
              "58  2021-01-06    0   0      0     0\n",
              "59  2021-01-07    0   0      0     0\n",
              "60  2021-01-08    0   0      0     0\n",
              "\n",
              "[61 rows x 5 columns]"
            ]
          },
          "metadata": {
            "tags": []
          },
          "execution_count": 33
        }
      ]
    },
    {
      "cell_type": "code",
      "metadata": {
        "colab": {
          "base_uri": "https://localhost:8080/"
        },
        "id": "kF2w1NveWPUX",
        "outputId": "92931623-3d3e-4e90-904d-d6228841e818"
      },
      "source": [
        "last_month"
      ],
      "execution_count": null,
      "outputs": [
        {
          "output_type": "execute_result",
          "data": {
            "text/plain": [
              "tensor([[[ 0.0522, -0.0501, -0.0774, -0.0198],\n",
              "         [ 0.0522, -0.0501, -0.0774, -0.0198],\n",
              "         [ 0.0522, -0.0501, -0.0774, -0.0198],\n",
              "         [ 0.0522, -0.0501, -0.0774, -0.0198],\n",
              "         [ 0.0522, -0.0501, -0.0774, -0.0198],\n",
              "         [ 0.0522, -0.0501, -0.0774, -0.0198],\n",
              "         [ 0.0522, -0.0501, -0.0774, -0.0198],\n",
              "         [ 0.0522, -0.0501, -0.0774, -0.0198],\n",
              "         [ 0.0522, -0.0501, -0.0774, -0.0198],\n",
              "         [ 0.0522, -0.0501, -0.0774, -0.0198],\n",
              "         [ 0.0522, -0.0501, -0.0774, -0.0198],\n",
              "         [ 0.0522, -0.0501, -0.0774, -0.0198],\n",
              "         [ 0.0522, -0.0501, -0.0774, -0.0198],\n",
              "         [ 0.0522, -0.0501, -0.0774, -0.0198],\n",
              "         [ 0.0522, -0.0501, -0.0774, -0.0198],\n",
              "         [ 0.0522, -0.0501, -0.0774, -0.0198],\n",
              "         [ 0.0522, -0.0501, -0.0774, -0.0198],\n",
              "         [ 0.0522, -0.0501, -0.0774, -0.0198],\n",
              "         [ 0.0522, -0.0501, -0.0774, -0.0198],\n",
              "         [ 0.0522, -0.0501, -0.0774, -0.0198],\n",
              "         [ 0.0522, -0.0501, -0.0774, -0.0198],\n",
              "         [ 0.0522, -0.0501, -0.0774, -0.0198],\n",
              "         [ 0.0522, -0.0501, -0.0774, -0.0198],\n",
              "         [ 0.0522, -0.0501, -0.0774, -0.0198],\n",
              "         [ 0.0522, -0.0501, -0.0774, -0.0198],\n",
              "         [ 0.0522, -0.0501, -0.0774, -0.0198],\n",
              "         [ 0.0522, -0.0501, -0.0774, -0.0198],\n",
              "         [ 0.0522, -0.0501, -0.0774, -0.0198],\n",
              "         [ 0.0522, -0.0501, -0.0774, -0.0198],\n",
              "         [ 0.0522, -0.0501, -0.0774, -0.0198],\n",
              "         [ 0.0000,  0.0000,  0.0000,  0.0000]]], device='cuda:0',\n",
              "       grad_fn=<CatBackward>)"
            ]
          },
          "metadata": {
            "tags": []
          },
          "execution_count": 21
        }
      ]
    },
    {
      "cell_type": "code",
      "metadata": {
        "colab": {
          "base_uri": "https://localhost:8080/",
          "height": 415
        },
        "id": "otQesF8kKDMX",
        "outputId": "47705f65-75a7-4949-e752-5f7e1065c8bc"
      },
      "source": [
        "#last_month = torch.tensor(window_x[-1,:,:][np.newaxis,...]).float().to(device) <- 수정 전\r\n",
        "last_month = np.zeros((1, 31, 4))\r\n",
        "last_month[:, :-1, :] = train.iloc[-30:,1:-1].values[np.newaxis,...] # <- 수정 후\r\n",
        "last_month[:, -1, :] = sub_copy.iloc[0, -1]\r\n",
        "last_month = torch.tensor(last_month).float().to(device) # <- 수정 후\r\n",
        "\r\n",
        "for start in range((len(submission) - output_window)//7 + 2): # 0, ..., 8\r\n",
        "    start = start * 7\r\n",
        "    next_week = model(last_month)\r\n",
        "    #last_month = torch.cat([last_month[-7:], next_week], axis = 1) <- 수정 전\r\n",
        "    last_month = torch.cat([last_month[:,7:-1,:], next_week], axis = 1) # tensor # <- 수정 후\r\n",
        "\r\n",
        "    isholiday_arr = np.array([[[sub_login_lst[start]]*4]])\r\n",
        "    isholiday = torch.tensor(isholiday_arr).float().to(device)\r\n",
        "    last_month = torch.cat([last_month, isholiday], axis=1)\r\n",
        "\r\n",
        "    pred_week = next_week.cpu().detach().numpy().reshape(output_window,4)\r\n",
        "    pred_week = pred_week * size.values + mini.values # scaling 역함수\r\n",
        "    pred_week = pred_week.astype(int)\r\n",
        "    \r\n",
        "    if start/7 == (len(submission) - output_window)//7 + 1:\r\n",
        "        submission.iloc[start :, 1:] = pred_week[-submission.iloc[start :, 1:].shape[0]:,:]\r\n",
        "    else:\r\n",
        "        submission.iloc[start : start + output_window, 1:] = pred_week\r\n",
        "submission"
      ],
      "execution_count": null,
      "outputs": [
        {
          "output_type": "execute_result",
          "data": {
            "text/html": [
              "<div>\n",
              "<style scoped>\n",
              "    .dataframe tbody tr th:only-of-type {\n",
              "        vertical-align: middle;\n",
              "    }\n",
              "\n",
              "    .dataframe tbody tr th {\n",
              "        vertical-align: top;\n",
              "    }\n",
              "\n",
              "    .dataframe thead th {\n",
              "        text-align: right;\n",
              "    }\n",
              "</style>\n",
              "<table border=\"1\" class=\"dataframe\">\n",
              "  <thead>\n",
              "    <tr style=\"text-align: right;\">\n",
              "      <th></th>\n",
              "      <th>DateTime</th>\n",
              "      <th>사용자</th>\n",
              "      <th>세션</th>\n",
              "      <th>신규방문자</th>\n",
              "      <th>페이지뷰</th>\n",
              "    </tr>\n",
              "  </thead>\n",
              "  <tbody>\n",
              "    <tr>\n",
              "      <th>0</th>\n",
              "      <td>2020-11-09</td>\n",
              "      <td>2705</td>\n",
              "      <td>2666</td>\n",
              "      <td>666</td>\n",
              "      <td>63299</td>\n",
              "    </tr>\n",
              "    <tr>\n",
              "      <th>1</th>\n",
              "      <td>2020-11-10</td>\n",
              "      <td>2972</td>\n",
              "      <td>2890</td>\n",
              "      <td>765</td>\n",
              "      <td>71799</td>\n",
              "    </tr>\n",
              "    <tr>\n",
              "      <th>2</th>\n",
              "      <td>2020-11-11</td>\n",
              "      <td>2709</td>\n",
              "      <td>2643</td>\n",
              "      <td>706</td>\n",
              "      <td>65475</td>\n",
              "    </tr>\n",
              "    <tr>\n",
              "      <th>3</th>\n",
              "      <td>2020-11-12</td>\n",
              "      <td>2346</td>\n",
              "      <td>2337</td>\n",
              "      <td>594</td>\n",
              "      <td>54895</td>\n",
              "    </tr>\n",
              "    <tr>\n",
              "      <th>4</th>\n",
              "      <td>2020-11-13</td>\n",
              "      <td>2009</td>\n",
              "      <td>2046</td>\n",
              "      <td>486</td>\n",
              "      <td>44230</td>\n",
              "    </tr>\n",
              "    <tr>\n",
              "      <th>...</th>\n",
              "      <td>...</td>\n",
              "      <td>...</td>\n",
              "      <td>...</td>\n",
              "      <td>...</td>\n",
              "      <td>...</td>\n",
              "    </tr>\n",
              "    <tr>\n",
              "      <th>56</th>\n",
              "      <td>2021-01-04</td>\n",
              "      <td>3297</td>\n",
              "      <td>3225</td>\n",
              "      <td>848</td>\n",
              "      <td>82046</td>\n",
              "    </tr>\n",
              "    <tr>\n",
              "      <th>57</th>\n",
              "      <td>2021-01-05</td>\n",
              "      <td>2896</td>\n",
              "      <td>2849</td>\n",
              "      <td>748</td>\n",
              "      <td>72028</td>\n",
              "    </tr>\n",
              "    <tr>\n",
              "      <th>58</th>\n",
              "      <td>2021-01-06</td>\n",
              "      <td>2389</td>\n",
              "      <td>2404</td>\n",
              "      <td>593</td>\n",
              "      <td>57259</td>\n",
              "    </tr>\n",
              "    <tr>\n",
              "      <th>59</th>\n",
              "      <td>2021-01-07</td>\n",
              "      <td>1877</td>\n",
              "      <td>1953</td>\n",
              "      <td>432</td>\n",
              "      <td>41322</td>\n",
              "    </tr>\n",
              "    <tr>\n",
              "      <th>60</th>\n",
              "      <td>2021-01-08</td>\n",
              "      <td>1485</td>\n",
              "      <td>1579</td>\n",
              "      <td>307</td>\n",
              "      <td>28541</td>\n",
              "    </tr>\n",
              "  </tbody>\n",
              "</table>\n",
              "<p>61 rows × 5 columns</p>\n",
              "</div>"
            ],
            "text/plain": [
              "      DateTime   사용자    세션  신규방문자   페이지뷰\n",
              "0   2020-11-09  2705  2666    666  63299\n",
              "1   2020-11-10  2972  2890    765  71799\n",
              "2   2020-11-11  2709  2643    706  65475\n",
              "3   2020-11-12  2346  2337    594  54895\n",
              "4   2020-11-13  2009  2046    486  44230\n",
              "..         ...   ...   ...    ...    ...\n",
              "56  2021-01-04  3297  3225    848  82046\n",
              "57  2021-01-05  2896  2849    748  72028\n",
              "58  2021-01-06  2389  2404    593  57259\n",
              "59  2021-01-07  1877  1953    432  41322\n",
              "60  2021-01-08  1485  1579    307  28541\n",
              "\n",
              "[61 rows x 5 columns]"
            ]
          },
          "metadata": {
            "tags": []
          },
          "execution_count": 34
        }
      ]
    },
    {
      "cell_type": "markdown",
      "metadata": {
        "id": "2F3fovaUyQx_"
      },
      "source": [
        "## 10. 예측 저장하기"
      ]
    },
    {
      "cell_type": "code",
      "metadata": {
        "id": "ttpJeNcKHt9l"
      },
      "source": [
        "submission.to_csv('submission_logincount.csv', index = False, encoding = 'euc-kr')"
      ],
      "execution_count": null,
      "outputs": []
    }
  ]
}